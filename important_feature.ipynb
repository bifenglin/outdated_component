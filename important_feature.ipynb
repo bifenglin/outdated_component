{
 "cells": [
  {
   "cell_type": "code",
   "execution_count": 14,
   "metadata": {
    "collapsed": true,
    "ExecuteTime": {
     "end_time": "2024-04-20T17:29:28.390121Z",
     "start_time": "2024-04-20T17:29:28.299757Z"
    }
   },
   "outputs": [
    {
     "data": {
      "text/plain": "(         Date            repo_name  new_contributors  \\\n 0  2020-01-01  vue-dropdown-filter               1.0   \n 1  2020-09-01  vue-dropdown-filter               1.0   \n 2  2020-07-01  vue-dropdown-filter               1.0   \n 3  2017-01-01    aurelia-slickgrid               1.0   \n 4  2018-01-01    aurelia-slickgrid               1.0   \n \n    change_request_response_time_avg  issue_age_avg  code_change_lines_sum  \\\n 0                              0.00            0.0                  -34.0   \n 1                              0.00            0.0                  -34.0   \n 2                              0.00            0.0                  -34.0   \n 3                              0.00            0.0                -8192.0   \n 4                              2.32          257.5                -9327.0   \n \n    issues_new  issues_and_change_request_active  code_change_lines_add  \\\n 0         0.0                               2.0                   14.0   \n 1         0.0                               2.0                   14.0   \n 2         0.0                               2.0                   14.0   \n 3         1.0                               4.0                52550.0   \n 4        40.0                             117.0                50450.0   \n \n    attention  ...  inactive_contributors  change_requests_reviews  activity  \\\n 0        0.0  ...                    0.0                      0.0      3.16   \n 1        0.0  ...                    0.0                      0.0      3.16   \n 2        0.0  ...                    0.0                      0.0      3.16   \n 3       11.0  ...                    0.0                      0.0      7.39   \n 4       21.0  ...                    0.0                     92.0    158.94   \n \n    change_request_resolution_duration_avg  issues_closed  change_requests  \\\n 0                                    0.00            0.0              2.0   \n 1                                    0.00            0.0              2.0   \n 2                                    0.00            0.0              2.0   \n 3                                    0.00            1.0              3.0   \n 4                                    3.52           37.0             69.0   \n \n    issue_response_time_avg  issue_resolution_duration_avg  stars      type  \n 0                     0.00                           0.00    0.0    normal  \n 1                     0.00                           0.00    0.0    normal  \n 2                     0.00                           0.00    0.0    normal  \n 3                     0.00                          17.00   11.0  outdated  \n 4                    13.63                          53.13   17.0  outdated  \n \n [5 rows x 26 columns],\n Date                                       object\n repo_name                                  object\n new_contributors                          float64\n change_request_response_time_avg          float64\n issue_age_avg                             float64\n code_change_lines_sum                     float64\n issues_new                                float64\n issues_and_change_request_active          float64\n code_change_lines_add                     float64\n attention                                 float64\n issue_comments                            float64\n change_requests_accepted                  float64\n change_request_age_avg                    float64\n participants                              float64\n bus_factor                                float64\n code_change_lines_remove                  float64\n inactive_contributors                     float64\n change_requests_reviews                   float64\n activity                                  float64\n change_request_resolution_duration_avg    float64\n issues_closed                             float64\n change_requests                           float64\n issue_response_time_avg                   float64\n issue_resolution_duration_avg             float64\n stars                                     float64\n type                                       object\n dtype: object)"
     },
     "execution_count": 14,
     "metadata": {},
     "output_type": "execute_result"
    }
   ],
   "source": [
    "import pandas as pd\n",
    "\n",
    "# Load the CSV file to check its contents and structure\n",
    "file_path = './data/merged_with_type.csv'\n",
    "data = pd.read_csv(file_path)\n",
    "\n",
    "# Display the first few rows of the dataframe and the data types of each column\n",
    "data.head(), data.dtypes\n"
   ]
  },
  {
   "cell_type": "code",
   "execution_count": 18,
   "outputs": [
    {
     "data": {
      "text/plain": "                                             Feature       P-value\n0                         Number of New Contributors  4.143817e-02\n1     Average Response Time for Code Change Requests  8.339074e-01\n2                    Average Duration of Open Issues  5.470050e-08\n3                      Total Number of Lines Changed  7.780115e-03\n4                      Number of Newly Raised Issues  2.106131e-02\n5          Number of Active Issues and Pull Requests  5.953239e-19\n6                     Number of New Code Lines Added  6.339719e-25\n7                            Number of Project Forks  6.721739e-04\n8                       Number of Comments on Issues  9.975407e-05\n9                   Number of Accepted Pull Requests  8.656965e-13\n10            Average Duration of Open Pull Requests  3.572505e-01\n11                            Number of Participants  4.637322e-10\n12  Number of Key Contributors the Project Relies On  5.077896e-01\n13                      Number of Code Lines Deleted  4.184928e-27\n14              Number of Long-Inactive Contributors  2.937518e-04\n15               Number of Reviews for Pull Requests  6.452315e-01\n16            Overall Activity Events of the Project  4.751050e-14\n17             Average Time to Resolve Pull Requests  2.670665e-15\n18                           Number of Closed Issues  4.045351e-02\n19                     Total Number of Pull Requests  4.267269e-22\n20                  Average Response Time for Issues  1.656173e-02\n21                    Average Time to Resolve Issues  4.864817e-03\n22          Number of Stars the Project Has Received  8.022039e-02",
      "text/html": "<div>\n<style scoped>\n    .dataframe tbody tr th:only-of-type {\n        vertical-align: middle;\n    }\n\n    .dataframe tbody tr th {\n        vertical-align: top;\n    }\n\n    .dataframe thead th {\n        text-align: right;\n    }\n</style>\n<table border=\"1\" class=\"dataframe\">\n  <thead>\n    <tr style=\"text-align: right;\">\n      <th></th>\n      <th>Feature</th>\n      <th>P-value</th>\n    </tr>\n  </thead>\n  <tbody>\n    <tr>\n      <th>0</th>\n      <td>Number of New Contributors</td>\n      <td>4.143817e-02</td>\n    </tr>\n    <tr>\n      <th>1</th>\n      <td>Average Response Time for Code Change Requests</td>\n      <td>8.339074e-01</td>\n    </tr>\n    <tr>\n      <th>2</th>\n      <td>Average Duration of Open Issues</td>\n      <td>5.470050e-08</td>\n    </tr>\n    <tr>\n      <th>3</th>\n      <td>Total Number of Lines Changed</td>\n      <td>7.780115e-03</td>\n    </tr>\n    <tr>\n      <th>4</th>\n      <td>Number of Newly Raised Issues</td>\n      <td>2.106131e-02</td>\n    </tr>\n    <tr>\n      <th>5</th>\n      <td>Number of Active Issues and Pull Requests</td>\n      <td>5.953239e-19</td>\n    </tr>\n    <tr>\n      <th>6</th>\n      <td>Number of New Code Lines Added</td>\n      <td>6.339719e-25</td>\n    </tr>\n    <tr>\n      <th>7</th>\n      <td>Number of Project Forks</td>\n      <td>6.721739e-04</td>\n    </tr>\n    <tr>\n      <th>8</th>\n      <td>Number of Comments on Issues</td>\n      <td>9.975407e-05</td>\n    </tr>\n    <tr>\n      <th>9</th>\n      <td>Number of Accepted Pull Requests</td>\n      <td>8.656965e-13</td>\n    </tr>\n    <tr>\n      <th>10</th>\n      <td>Average Duration of Open Pull Requests</td>\n      <td>3.572505e-01</td>\n    </tr>\n    <tr>\n      <th>11</th>\n      <td>Number of Participants</td>\n      <td>4.637322e-10</td>\n    </tr>\n    <tr>\n      <th>12</th>\n      <td>Number of Key Contributors the Project Relies On</td>\n      <td>5.077896e-01</td>\n    </tr>\n    <tr>\n      <th>13</th>\n      <td>Number of Code Lines Deleted</td>\n      <td>4.184928e-27</td>\n    </tr>\n    <tr>\n      <th>14</th>\n      <td>Number of Long-Inactive Contributors</td>\n      <td>2.937518e-04</td>\n    </tr>\n    <tr>\n      <th>15</th>\n      <td>Number of Reviews for Pull Requests</td>\n      <td>6.452315e-01</td>\n    </tr>\n    <tr>\n      <th>16</th>\n      <td>Overall Activity Events of the Project</td>\n      <td>4.751050e-14</td>\n    </tr>\n    <tr>\n      <th>17</th>\n      <td>Average Time to Resolve Pull Requests</td>\n      <td>2.670665e-15</td>\n    </tr>\n    <tr>\n      <th>18</th>\n      <td>Number of Closed Issues</td>\n      <td>4.045351e-02</td>\n    </tr>\n    <tr>\n      <th>19</th>\n      <td>Total Number of Pull Requests</td>\n      <td>4.267269e-22</td>\n    </tr>\n    <tr>\n      <th>20</th>\n      <td>Average Response Time for Issues</td>\n      <td>1.656173e-02</td>\n    </tr>\n    <tr>\n      <th>21</th>\n      <td>Average Time to Resolve Issues</td>\n      <td>4.864817e-03</td>\n    </tr>\n    <tr>\n      <th>22</th>\n      <td>Number of Stars the Project Has Received</td>\n      <td>8.022039e-02</td>\n    </tr>\n  </tbody>\n</table>\n</div>"
     },
     "execution_count": 18,
     "metadata": {},
     "output_type": "execute_result"
    }
   ],
   "source": [
    "from scipy.stats import mannwhitneyu\n",
    "\n",
    "# List of numeric columns as provided\n",
    "numeric_cols = ['new_contributors', 'change_request_response_time_avg', 'issue_age_avg', 'code_change_lines_sum',\n",
    "                'issues_new', 'issues_and_change_request_active', 'code_change_lines_add', 'attention',\n",
    "                'issue_comments', 'change_requests_accepted', 'change_request_age_avg', 'participants', 'bus_factor',\n",
    "                'code_change_lines_remove', 'inactive_contributors', 'change_requests_reviews', 'activity',\n",
    "                'change_request_resolution_duration_avg', 'issues_closed', 'change_requests', 'issue_response_time_avg',\n",
    "                'issue_resolution_duration_avg', 'stars']\n",
    "\n",
    "# Dictionary to store P-values\n",
    "p_values = {}\n",
    "\n",
    "# Calculate P-value using Mann-Whitney U test for each numeric column based on 'type'\n",
    "for col in numeric_cols:\n",
    "    group1 = data[data['type'] == 'normal'][col].dropna()\n",
    "    group2 = data[data['type'] != 'normal'][col].dropna()\n",
    "    result = mannwhitneyu(group1, group2, alternative='two-sided')\n",
    "    p_values[col] = result.pvalue\n",
    "\n",
    "# Convert dictionary to DataFrame\n",
    "p_values_df = pd.DataFrame(list(p_values.items()), columns=['Feature', 'P-value'])\n",
    "\n",
    "# Mapping provided features to more descriptive names\n",
    "feature_mapping = {\n",
    "    \"new_contributors\": \"Number of New Contributors\",\n",
    "    \"change_request_response_time_avg\": \"Average Response Time for Code Change Requests\",\n",
    "    \"issue_age_avg\": \"Average Duration of Open Issues\",\n",
    "    \"code_change_lines_sum\": \"Total Number of Lines Changed\",\n",
    "    \"issues_new\": \"Number of Newly Raised Issues\",\n",
    "    \"issues_and_change_request_active\": \"Number of Active Issues and Pull Requests\",\n",
    "    \"code_change_lines_add\": \"Number of New Code Lines Added\",\n",
    "    \"attention\": \"Number of Project Forks\",\n",
    "    \"issue_comments\": \"Number of Comments on Issues\",\n",
    "    \"change_requests_accepted\": \"Number of Accepted Pull Requests\",\n",
    "    \"change_request_age_avg\": \"Average Duration of Open Pull Requests\",\n",
    "    \"participants\": \"Number of Participants\",\n",
    "    \"bus_factor\": \"Number of Key Contributors the Project Relies On\",\n",
    "    \"code_change_lines_remove\": \"Number of Code Lines Deleted\",\n",
    "    \"inactive_contributors\": \"Number of Long-Inactive Contributors\",\n",
    "    \"change_requests_reviews\": \"Number of Reviews for Pull Requests\",\n",
    "    \"activity\": \"Overall Activity Events of the Project\",\n",
    "    \"change_request_resolution_duration_avg\": \"Average Time to Resolve Pull Requests\",\n",
    "    \"issues_closed\": \"Number of Closed Issues\",\n",
    "    \"change_requests\": \"Total Number of Pull Requests\",\n",
    "    \"issue_response_time_avg\": \"Average Response Time for Issues\",\n",
    "    \"issue_resolution_duration_avg\": \"Average Time to Resolve Issues\",\n",
    "    \"stars\": \"Number of Stars the Project Has Received\"\n",
    "}\n",
    "\n",
    "# Apply the mapping to the dataframe\n",
    "p_values_df['Feature'] = p_values_df['Feature'].map(feature_mapping)\n",
    "\n",
    "# Display the updated DataFrame\n",
    "p_values_df\n",
    "\n"
   ],
   "metadata": {
    "collapsed": false,
    "ExecuteTime": {
     "end_time": "2024-04-20T17:57:14.729624Z",
     "start_time": "2024-04-20T17:57:13.679727Z"
    }
   }
  },
  {
   "cell_type": "code",
   "execution_count": 13,
   "outputs": [
    {
     "data": {
      "text/plain": "                                                       P-value\nNumber of New Contributors                        4.143817e-02\nAverage Response Time for Code Change Requests    8.339074e-01\nAverage Duration of Open Issues                   5.470050e-08\nTotal Number of Lines Changed                     7.780115e-03\nNumber of Newly Raised Issues                     2.106131e-02\nNumber of Active Issues and Pull Requests         5.953239e-19\nNumber of New Code Lines Added                    6.339719e-25\nNumber of Project Forks                           6.721739e-04\nNumber of Comments on Issues                      9.975407e-05\nNumber of Accepted Pull Requests                  8.656965e-13\nAverage Duration of Open Pull Requests            3.572505e-01\nNumber of Participants                            4.637322e-10\nNumber of Key Contributors the Project Relies On  5.077896e-01\nNumber of Code Lines Deleted                      4.184928e-27\nNumber of Long-Inactive Contributors              2.937518e-04\nNumber of Reviews for Pull Requests               6.452315e-01\nOverall Activity Events of the Project            4.751050e-14\nAverage Time to Resolve Pull Requests             2.670665e-15\nNumber of Closed Issues                           4.045351e-02\nTotal Number of Pull Requests                     4.267269e-22\nAverage Response Time for Issues                  1.656173e-02\nAverage Time to Resolve Issues                    4.864817e-03\nNumber of Stars the Project Has Received          8.022039e-02",
      "text/html": "<div>\n<style scoped>\n    .dataframe tbody tr th:only-of-type {\n        vertical-align: middle;\n    }\n\n    .dataframe tbody tr th {\n        vertical-align: top;\n    }\n\n    .dataframe thead th {\n        text-align: right;\n    }\n</style>\n<table border=\"1\" class=\"dataframe\">\n  <thead>\n    <tr style=\"text-align: right;\">\n      <th></th>\n      <th>P-value</th>\n    </tr>\n  </thead>\n  <tbody>\n    <tr>\n      <th>Number of New Contributors</th>\n      <td>4.143817e-02</td>\n    </tr>\n    <tr>\n      <th>Average Response Time for Code Change Requests</th>\n      <td>8.339074e-01</td>\n    </tr>\n    <tr>\n      <th>Average Duration of Open Issues</th>\n      <td>5.470050e-08</td>\n    </tr>\n    <tr>\n      <th>Total Number of Lines Changed</th>\n      <td>7.780115e-03</td>\n    </tr>\n    <tr>\n      <th>Number of Newly Raised Issues</th>\n      <td>2.106131e-02</td>\n    </tr>\n    <tr>\n      <th>Number of Active Issues and Pull Requests</th>\n      <td>5.953239e-19</td>\n    </tr>\n    <tr>\n      <th>Number of New Code Lines Added</th>\n      <td>6.339719e-25</td>\n    </tr>\n    <tr>\n      <th>Number of Project Forks</th>\n      <td>6.721739e-04</td>\n    </tr>\n    <tr>\n      <th>Number of Comments on Issues</th>\n      <td>9.975407e-05</td>\n    </tr>\n    <tr>\n      <th>Number of Accepted Pull Requests</th>\n      <td>8.656965e-13</td>\n    </tr>\n    <tr>\n      <th>Average Duration of Open Pull Requests</th>\n      <td>3.572505e-01</td>\n    </tr>\n    <tr>\n      <th>Number of Participants</th>\n      <td>4.637322e-10</td>\n    </tr>\n    <tr>\n      <th>Number of Key Contributors the Project Relies On</th>\n      <td>5.077896e-01</td>\n    </tr>\n    <tr>\n      <th>Number of Code Lines Deleted</th>\n      <td>4.184928e-27</td>\n    </tr>\n    <tr>\n      <th>Number of Long-Inactive Contributors</th>\n      <td>2.937518e-04</td>\n    </tr>\n    <tr>\n      <th>Number of Reviews for Pull Requests</th>\n      <td>6.452315e-01</td>\n    </tr>\n    <tr>\n      <th>Overall Activity Events of the Project</th>\n      <td>4.751050e-14</td>\n    </tr>\n    <tr>\n      <th>Average Time to Resolve Pull Requests</th>\n      <td>2.670665e-15</td>\n    </tr>\n    <tr>\n      <th>Number of Closed Issues</th>\n      <td>4.045351e-02</td>\n    </tr>\n    <tr>\n      <th>Total Number of Pull Requests</th>\n      <td>4.267269e-22</td>\n    </tr>\n    <tr>\n      <th>Average Response Time for Issues</th>\n      <td>1.656173e-02</td>\n    </tr>\n    <tr>\n      <th>Average Time to Resolve Issues</th>\n      <td>4.864817e-03</td>\n    </tr>\n    <tr>\n      <th>Number of Stars the Project Has Received</th>\n      <td>8.022039e-02</td>\n    </tr>\n  </tbody>\n</table>\n</div>"
     },
     "execution_count": 13,
     "metadata": {},
     "output_type": "execute_result"
    }
   ],
   "source": [
    "import pandas as pd\n",
    "# Dictionary to store MWW statistics, P-values, and Cliff's Delta results\n",
    "stats_results = {}\n",
    "\n",
    "# Calculate MWW Statistic, P-value, and Cliff's Delta for 'type' column against each numeric column\n",
    "for col in numeric_cols:\n",
    "    group1 = data[data['type'] == 'normal'][col].dropna()\n",
    "    group2 = data[data['type'] != 'normal'][col].dropna()\n",
    "    mwu_result = mannwhitneyu(group1, group2, alternative='two-sided')\n",
    "    delta = cliffs_delta(group1, group2)\n",
    "    stats_results[col] = {\n",
    "        # 'MWW Statistic': mwu_result.statistic,\n",
    "        'P-value': mwu_result.pvalue,\n",
    "        # 'Cliff\\'s Delta': delta\n",
    "    }\n",
    "\n",
    "\n",
    "stats_results\n",
    "# 转为dataframe\n",
    "stats_results_df = pd.DataFrame(stats_results)\n",
    "stats_results_df = pd.DataFrame(stats_results).transpose()\n",
    "\n",
    "# Updated map for original feature to descriptive names\n",
    "feature_mapping = {\n",
    "    \"new_contributors\": \"Number of New Contributors\",\n",
    "    \"change_request_response_time_avg\": \"Average Response Time for Code Change Requests\",\n",
    "    \"issue_age_avg\": \"Average Duration of Open Issues\",\n",
    "    \"code_change_lines_sum\": \"Total Number of Lines Changed\",\n",
    "    \"issues_new\": \"Number of Newly Raised Issues\",\n",
    "    \"issues_and_change_request_active\": \"Number of Active Issues and Pull Requests\",\n",
    "    \"code_change_lines_add\": \"Number of New Code Lines Added\",\n",
    "    \"attention\": \"Number of Project Forks\",\n",
    "    \"issue_comments\": \"Number of Comments on Issues\",\n",
    "    \"change_requests_accepted\": \"Number of Accepted Pull Requests\",\n",
    "    \"change_request_age_avg\": \"Average Duration of Open Pull Requests\",\n",
    "    \"participants\": \"Number of Participants\",\n",
    "    \"bus_factor\": \"Number of Key Contributors the Project Relies On\",\n",
    "    \"code_change_lines_remove\": \"Number of Code Lines Deleted\",\n",
    "    \"inactive_contributors\": \"Number of Long-Inactive Contributors\",\n",
    "    \"change_requests_reviews\": \"Number of Reviews for Pull Requests\",\n",
    "    \"activity\": \"Overall Activity Events of the Project\",\n",
    "    \"change_request_resolution_duration_avg\": \"Average Time to Resolve Pull Requests\",\n",
    "    \"issues_closed\": \"Number of Closed Issues\",\n",
    "    \"change_requests\": \"Total Number of Pull Requests\",\n",
    "    \"issue_response_time_avg\": \"Average Response Time for Issues\",\n",
    "    \"issue_resolution_duration_avg\": \"Average Time to Resolve Issues\",\n",
    "    \"stars\": \"Number of Stars the Project Has Received\"\n",
    "}\n",
    "stats_results_df.index = stats_results_df.index.map(feature_mapping)\n",
    "\n",
    "stats_results_df\n"
   ],
   "metadata": {
    "collapsed": false,
    "ExecuteTime": {
     "end_time": "2024-04-20T17:25:28.509795Z",
     "start_time": "2024-04-20T17:25:27.255239Z"
    }
   }
  }
 ],
 "metadata": {
  "kernelspec": {
   "name": "graph",
   "language": "python",
   "display_name": "graph"
  },
  "language_info": {
   "codemirror_mode": {
    "name": "ipython",
    "version": 2
   },
   "file_extension": ".py",
   "mimetype": "text/x-python",
   "name": "python",
   "nbconvert_exporter": "python",
   "pygments_lexer": "ipython2",
   "version": "2.7.6"
  }
 },
 "nbformat": 4,
 "nbformat_minor": 0
}
